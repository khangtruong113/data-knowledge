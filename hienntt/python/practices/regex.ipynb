{
 "cells": [
  {
   "cell_type": "code",
   "execution_count": 1,
   "outputs": [],
   "source": [
    "import re"
   ],
   "metadata": {
    "collapsed": false,
    "ExecuteTime": {
     "end_time": "2023-06-09T04:43:51.651397100Z",
     "start_time": "2023-06-09T04:43:51.636303400Z"
    }
   }
  },
  {
   "cell_type": "markdown",
   "source": [
    "# FUNCTIONS"
   ],
   "metadata": {
    "collapsed": false
   }
  },
  {
   "cell_type": "code",
   "execution_count": 11,
   "outputs": [
    {
     "name": "stdout",
     "output_type": "stream",
     "text": [
      "Found a match!\n"
     ]
    }
   ],
   "source": [
    "# search\n",
    "\n",
    "text = \"This is a sample text.\"\n",
    "pattern = \"sample\"\n",
    "\n",
    "match = re.search(pattern, text)\n",
    "\n",
    "if match:\n",
    "    print(\"Found a match!\")\n",
    "else:\n",
    "    print(\"No match found.\")"
   ],
   "metadata": {
    "collapsed": false,
    "ExecuteTime": {
     "end_time": "2023-06-09T04:58:35.188591200Z",
     "start_time": "2023-06-09T04:58:35.184992700Z"
    }
   }
  },
  {
   "cell_type": "code",
   "execution_count": 8,
   "outputs": [
    {
     "data": {
      "text/plain": "<re.Match object; span=(0, 4), match='This'>"
     },
     "execution_count": 8,
     "metadata": {},
     "output_type": "execute_result"
    }
   ],
   "source": [
    "# match\n",
    "\n",
    "text = \"This is a sample text.\"\n",
    "pattern = \"This\"\n",
    "\n",
    "re.match(pattern, text)"
   ],
   "metadata": {
    "collapsed": false,
    "ExecuteTime": {
     "end_time": "2023-06-09T04:54:15.402992300Z",
     "start_time": "2023-06-09T04:54:15.398887100Z"
    }
   }
  },
  {
   "cell_type": "code",
   "execution_count": 9,
   "outputs": [
    {
     "data": {
      "text/plain": "<re.Match object; span=(0, 10), match='2023-06-09'>"
     },
     "execution_count": 9,
     "metadata": {},
     "output_type": "execute_result"
    }
   ],
   "source": [
    "# fullmatch\n",
    "\n",
    "date_string = \"2023-06-09\"\n",
    "pattern = \"\\d{4}-\\d{2}-\\d{2}\"\n",
    "\n",
    "re.fullmatch(pattern, date_string)"
   ],
   "metadata": {
    "collapsed": false,
    "ExecuteTime": {
     "end_time": "2023-06-09T04:57:26.199430300Z",
     "start_time": "2023-06-09T04:57:26.199430300Z"
    }
   }
  },
  {
   "cell_type": "code",
   "execution_count": 12,
   "outputs": [
    {
     "data": {
      "text/plain": "['19', '99', '12', '50']"
     },
     "execution_count": 12,
     "metadata": {},
     "output_type": "execute_result"
    }
   ],
   "source": [
    "# findall\n",
    "\n",
    "text = \"Price of book: $19.99, movie: $12.50\"\n",
    "pattern = \"\\d+\"\n",
    "\n",
    "re.findall(pattern, text)"
   ],
   "metadata": {
    "collapsed": false,
    "ExecuteTime": {
     "end_time": "2023-06-09T05:03:10.089426400Z",
     "start_time": "2023-06-09T05:03:10.089426400Z"
    }
   }
  },
  {
   "cell_type": "code",
   "execution_count": 14,
   "outputs": [
    {
     "data": {
      "text/plain": "'Price of ****: $19.99, movie: $12.50'"
     },
     "execution_count": 14,
     "metadata": {},
     "output_type": "execute_result"
    }
   ],
   "source": [
    "# sub/subn\n",
    "\n",
    "text = \"Price of book: $19.99, movie: $12.50\"\n",
    "pattern = r\"\\b\\w{4}\\b\"\n",
    "\n",
    "re.sub(pattern, '****', text)"
   ],
   "metadata": {
    "collapsed": false,
    "ExecuteTime": {
     "end_time": "2023-06-09T06:39:58.123990800Z",
     "start_time": "2023-06-09T06:39:58.116992700Z"
    }
   }
  },
  {
   "cell_type": "code",
   "execution_count": 15,
   "outputs": [
    {
     "data": {
      "text/plain": "('Price of ****: $19.99, movie: $12.50', 1)"
     },
     "execution_count": 15,
     "metadata": {},
     "output_type": "execute_result"
    }
   ],
   "source": [
    "re.subn(pattern, '****', text)"
   ],
   "metadata": {
    "collapsed": false,
    "ExecuteTime": {
     "end_time": "2023-06-09T06:42:18.321503100Z",
     "start_time": "2023-06-09T06:42:18.315519200Z"
    }
   }
  },
  {
   "cell_type": "code",
   "execution_count": 16,
   "outputs": [
    {
     "data": {
      "text/plain": "['Price', 'of', 'book:', '$19.99,', 'movie:', '$12.50']"
     },
     "execution_count": 16,
     "metadata": {},
     "output_type": "execute_result"
    }
   ],
   "source": [
    "# split\n",
    "\n",
    "text = \"Price of book: $19.99, movie: $12.50\"\n",
    "pattern = \"\\s+\"\n",
    "\n",
    "re.split(pattern, text)"
   ],
   "metadata": {
    "collapsed": false,
    "ExecuteTime": {
     "end_time": "2023-06-09T06:45:45.033364400Z",
     "start_time": "2023-06-09T06:45:45.022393500Z"
    }
   }
  },
  {
   "cell_type": "code",
   "execution_count": 17,
   "outputs": [
    {
     "data": {
      "text/plain": "['Price', 'of', 'book:', '$19.99, movie: $12.50']"
     },
     "execution_count": 17,
     "metadata": {},
     "output_type": "execute_result"
    }
   ],
   "source": [
    "re.split(pattern, text, 3)"
   ],
   "metadata": {
    "collapsed": false,
    "ExecuteTime": {
     "end_time": "2023-06-09T06:46:49.798294200Z",
     "start_time": "2023-06-09T06:46:49.792310100Z"
    }
   }
  },
  {
   "cell_type": "code",
   "execution_count": 20,
   "outputs": [
    {
     "data": {
      "text/plain": "<re.Match object; span=(0, 0), match=''>"
     },
     "execution_count": 20,
     "metadata": {},
     "output_type": "execute_result"
    }
   ],
   "source": [
    "# escape\n",
    "\n",
    "text = r\"Price of \\book: $19.99, movie: $12.50\"\n",
    "pattern = r\"\\b\"\n",
    "\n",
    "re.search(pattern, text)"
   ],
   "metadata": {
    "collapsed": false,
    "ExecuteTime": {
     "end_time": "2023-06-09T07:23:35.426128200Z",
     "start_time": "2023-06-09T07:23:35.418812700Z"
    }
   }
  },
  {
   "cell_type": "code",
   "execution_count": 21,
   "outputs": [
    {
     "data": {
      "text/plain": "<re.Match object; span=(9, 11), match='\\\\b'>"
     },
     "execution_count": 21,
     "metadata": {},
     "output_type": "execute_result"
    }
   ],
   "source": [
    "re.search(re.escape(pattern), text)"
   ],
   "metadata": {
    "collapsed": false,
    "ExecuteTime": {
     "end_time": "2023-06-09T07:23:38.688708100Z",
     "start_time": "2023-06-09T07:23:38.681143800Z"
    }
   }
  },
  {
   "cell_type": "code",
   "execution_count": 23,
   "outputs": [
    {
     "data": {
      "text/plain": "['19', '99', '12', '50']"
     },
     "execution_count": 23,
     "metadata": {},
     "output_type": "execute_result"
    }
   ],
   "source": [
    "# compile\n",
    "\n",
    "text = \"Price of book: $19.99, movie: $12.50\"\n",
    "pattern = \"\\d+\"\n",
    "\n",
    "regex = re.compile(pattern)\n",
    "regex.findall(text)"
   ],
   "metadata": {
    "collapsed": false,
    "ExecuteTime": {
     "end_time": "2023-06-09T07:34:44.027934600Z",
     "start_time": "2023-06-09T07:34:44.024946100Z"
    }
   }
  },
  {
   "cell_type": "markdown",
   "source": [
    "# MATCH OBJECT"
   ],
   "metadata": {
    "collapsed": false
   }
  },
  {
   "cell_type": "code",
   "execution_count": 29,
   "outputs": [],
   "source": [
    "pattern = \"(\\d{3})-(\\d{3}-\\d{4})\"\n",
    "text = \"My phone number is 222-333-4444\"\n",
    "\n",
    "match = re.search(pattern, text)"
   ],
   "metadata": {
    "collapsed": false,
    "ExecuteTime": {
     "end_time": "2023-06-09T09:29:40.872692300Z",
     "start_time": "2023-06-09T09:29:40.872692300Z"
    }
   }
  },
  {
   "cell_type": "code",
   "execution_count": 32,
   "outputs": [
    {
     "name": "stdout",
     "output_type": "stream",
     "text": [
      "Matched phone number: 222-333-4444\n",
      "Area code: 222\n",
      "Phone number: 333-4444\n",
      "Start position: 19\n",
      "End position: 31\n",
      "Span: (19, 31)\n"
     ]
    }
   ],
   "source": [
    "if match:\n",
    "    print(f'Matched phone number: {match.group()}')\n",
    "    print(f'Area code: {match.group(1)}')\n",
    "    print(f'Phone number: {match.group(2)}')\n",
    "    print(f'Start position: {match.start()}')\n",
    "    print(f'End position: {match.end()}')\n",
    "    print(f'Span: {match.span()}')"
   ],
   "metadata": {
    "collapsed": false,
    "ExecuteTime": {
     "end_time": "2023-06-09T09:31:06.088486400Z",
     "start_time": "2023-06-09T09:31:06.071423400Z"
    }
   }
  },
  {
   "cell_type": "markdown",
   "source": [
    "# FLAGS"
   ],
   "metadata": {
    "collapsed": false
   }
  },
  {
   "cell_type": "code",
   "execution_count": 34,
   "outputs": [
    {
     "name": "stdout",
     "output_type": "stream",
     "text": [
      "None\n",
      "<re.Match object; span=(0, 5), match='Hello'>\n"
     ]
    }
   ],
   "source": [
    "# re.IGNORECASE\n",
    "\n",
    "pattern = 'hello'\n",
    "text = 'Hello world!'\n",
    "\n",
    "print(re.search(pattern, text))\n",
    "print(re.search(pattern, text, re.IGNORECASE))"
   ],
   "metadata": {
    "collapsed": false,
    "ExecuteTime": {
     "end_time": "2023-06-09T09:39:05.120964Z",
     "start_time": "2023-06-09T09:39:05.110802300Z"
    }
   }
  },
  {
   "cell_type": "code",
   "execution_count": 35,
   "outputs": [
    {
     "name": "stdout",
     "output_type": "stream",
     "text": [
      "None\n",
      "<re.Match object; span=(0, 11), match='hello\\nworld'>\n"
     ]
    }
   ],
   "source": [
    "# re.DOTALL\n",
    "\n",
    "pattern = 'hello.*world'\n",
    "text = 'hello\\nworld!'\n",
    "\n",
    "print(re.search(pattern, text))\n",
    "print(re.search(pattern, text, re.DOTALL))"
   ],
   "metadata": {
    "collapsed": false,
    "ExecuteTime": {
     "end_time": "2023-06-09T09:49:48.669325900Z",
     "start_time": "2023-06-09T09:49:48.631704700Z"
    }
   }
  },
  {
   "cell_type": "code",
   "execution_count": 37,
   "outputs": [
    {
     "name": "stdout",
     "output_type": "stream",
     "text": [
      "hello\n",
      "world\n"
     ]
    }
   ],
   "source": [
    "print(re.search(pattern, text, re.DOTALL).group())"
   ],
   "metadata": {
    "collapsed": false,
    "ExecuteTime": {
     "end_time": "2023-06-09T09:51:15.899247200Z",
     "start_time": "2023-06-09T09:51:15.893660200Z"
    }
   }
  },
  {
   "cell_type": "code",
   "execution_count": 40,
   "outputs": [
    {
     "data": {
      "text/plain": "[]"
     },
     "execution_count": 40,
     "metadata": {},
     "output_type": "execute_result"
    }
   ],
   "source": [
    "# re.MULTILINE\n",
    "\n",
    "pattern = '^\\d+'\n",
    "text = 'Line 1\\nLine 2\\nLine 3'\n",
    "\n",
    "re.findall(pattern, text, re.MULTILINE)"
   ],
   "metadata": {
    "collapsed": false,
    "ExecuteTime": {
     "end_time": "2023-06-09T09:58:48.426559800Z",
     "start_time": "2023-06-09T09:58:48.410552500Z"
    }
   }
  },
  {
   "cell_type": "code",
   "execution_count": 41,
   "outputs": [
    {
     "data": {
      "text/plain": "['1', '2', '3']"
     },
     "execution_count": 41,
     "metadata": {},
     "output_type": "execute_result"
    }
   ],
   "source": [
    "pattern = '\\d+$'\n",
    "text = 'Line 1\\nLine 2\\nLine 3'\n",
    "\n",
    "re.findall(pattern, text, re.MULTILINE)"
   ],
   "metadata": {
    "collapsed": false,
    "ExecuteTime": {
     "end_time": "2023-06-09T09:59:09.612554700Z",
     "start_time": "2023-06-09T09:59:09.596599Z"
    }
   }
  },
  {
   "cell_type": "code",
   "execution_count": null,
   "outputs": [],
   "source": [
    "#"
   ],
   "metadata": {
    "collapsed": false
   }
  }
 ],
 "metadata": {
  "kernelspec": {
   "display_name": "Python 3",
   "language": "python",
   "name": "python3"
  },
  "language_info": {
   "codemirror_mode": {
    "name": "ipython",
    "version": 2
   },
   "file_extension": ".py",
   "mimetype": "text/x-python",
   "name": "python",
   "nbconvert_exporter": "python",
   "pygments_lexer": "ipython2",
   "version": "2.7.6"
  }
 },
 "nbformat": 4,
 "nbformat_minor": 0
}
