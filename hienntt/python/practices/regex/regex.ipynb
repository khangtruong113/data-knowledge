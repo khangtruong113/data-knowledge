{
 "cells": [
  {
   "cell_type": "code",
   "execution_count": 1,
   "outputs": [],
   "source": [
    "import re"
   ],
   "metadata": {
    "collapsed": false,
    "ExecuteTime": {
     "end_time": "2023-06-21T06:41:12.834929300Z",
     "start_time": "2023-06-21T06:41:12.827773100Z"
    }
   }
  },
  {
   "cell_type": "markdown",
   "source": [
    "# FUNCTIONS"
   ],
   "metadata": {
    "collapsed": false
   }
  },
  {
   "cell_type": "code",
   "execution_count": 11,
   "outputs": [
    {
     "name": "stdout",
     "output_type": "stream",
     "text": [
      "Found a match!\n"
     ]
    }
   ],
   "source": [
    "# search\n",
    "\n",
    "text = \"This is a sample text.\"\n",
    "pattern = \"sample\"\n",
    "\n",
    "match = re.search(pattern, text)\n",
    "\n",
    "if match:\n",
    "    print(\"Found a match!\")\n",
    "else:\n",
    "    print(\"No match found.\")"
   ],
   "metadata": {
    "collapsed": false,
    "ExecuteTime": {
     "end_time": "2023-06-09T04:58:35.188591200Z",
     "start_time": "2023-06-09T04:58:35.184992700Z"
    }
   }
  },
  {
   "cell_type": "code",
   "execution_count": 8,
   "outputs": [
    {
     "data": {
      "text/plain": "<re.Match object; span=(0, 4), match='This'>"
     },
     "execution_count": 8,
     "metadata": {},
     "output_type": "execute_result"
    }
   ],
   "source": [
    "# match\n",
    "\n",
    "text = \"This is a sample text.\"\n",
    "pattern = \"This\"\n",
    "\n",
    "re.match(pattern, text)"
   ],
   "metadata": {
    "collapsed": false,
    "ExecuteTime": {
     "end_time": "2023-06-09T04:54:15.402992300Z",
     "start_time": "2023-06-09T04:54:15.398887100Z"
    }
   }
  },
  {
   "cell_type": "code",
   "execution_count": 9,
   "outputs": [
    {
     "data": {
      "text/plain": "<re.Match object; span=(0, 10), match='2023-06-09'>"
     },
     "execution_count": 9,
     "metadata": {},
     "output_type": "execute_result"
    }
   ],
   "source": [
    "# fullmatch\n",
    "\n",
    "date_string = \"2023-06-09\"\n",
    "pattern = \"\\d{4}-\\d{2}-\\d{2}\"\n",
    "\n",
    "re.fullmatch(pattern, date_string)"
   ],
   "metadata": {
    "collapsed": false,
    "ExecuteTime": {
     "end_time": "2023-06-09T04:57:26.199430300Z",
     "start_time": "2023-06-09T04:57:26.199430300Z"
    }
   }
  },
  {
   "cell_type": "code",
   "execution_count": 12,
   "outputs": [
    {
     "data": {
      "text/plain": "['19', '99', '12', '50']"
     },
     "execution_count": 12,
     "metadata": {},
     "output_type": "execute_result"
    }
   ],
   "source": [
    "# findall\n",
    "\n",
    "text = \"Price of book: $19.99, movie: $12.50\"\n",
    "pattern = \"\\d+\"\n",
    "\n",
    "re.findall(pattern, text)"
   ],
   "metadata": {
    "collapsed": false,
    "ExecuteTime": {
     "end_time": "2023-06-09T05:03:10.089426400Z",
     "start_time": "2023-06-09T05:03:10.089426400Z"
    }
   }
  },
  {
   "cell_type": "code",
   "execution_count": 14,
   "outputs": [
    {
     "data": {
      "text/plain": "'Price of ****: $19.99, movie: $12.50'"
     },
     "execution_count": 14,
     "metadata": {},
     "output_type": "execute_result"
    }
   ],
   "source": [
    "# sub/subn\n",
    "\n",
    "text = \"Price of book: $19.99, movie: $12.50\"\n",
    "pattern = r\"\\b\\w{4}\\b\"\n",
    "\n",
    "re.sub(pattern, '****', text)"
   ],
   "metadata": {
    "collapsed": false,
    "ExecuteTime": {
     "end_time": "2023-06-09T06:39:58.123990800Z",
     "start_time": "2023-06-09T06:39:58.116992700Z"
    }
   }
  },
  {
   "cell_type": "code",
   "execution_count": 15,
   "outputs": [
    {
     "data": {
      "text/plain": "('Price of ****: $19.99, movie: $12.50', 1)"
     },
     "execution_count": 15,
     "metadata": {},
     "output_type": "execute_result"
    }
   ],
   "source": [
    "re.subn(pattern, '****', text)"
   ],
   "metadata": {
    "collapsed": false,
    "ExecuteTime": {
     "end_time": "2023-06-09T06:42:18.321503100Z",
     "start_time": "2023-06-09T06:42:18.315519200Z"
    }
   }
  },
  {
   "cell_type": "code",
   "execution_count": 16,
   "outputs": [
    {
     "data": {
      "text/plain": "['Price', 'of', 'book:', '$19.99,', 'movie:', '$12.50']"
     },
     "execution_count": 16,
     "metadata": {},
     "output_type": "execute_result"
    }
   ],
   "source": [
    "# split\n",
    "\n",
    "text = \"Price of book: $19.99, movie: $12.50\"\n",
    "pattern = \"\\s+\"\n",
    "\n",
    "re.split(pattern, text)"
   ],
   "metadata": {
    "collapsed": false,
    "ExecuteTime": {
     "end_time": "2023-06-09T06:45:45.033364400Z",
     "start_time": "2023-06-09T06:45:45.022393500Z"
    }
   }
  },
  {
   "cell_type": "code",
   "execution_count": 17,
   "outputs": [
    {
     "data": {
      "text/plain": "['Price', 'of', 'book:', '$19.99, movie: $12.50']"
     },
     "execution_count": 17,
     "metadata": {},
     "output_type": "execute_result"
    }
   ],
   "source": [
    "re.split(pattern, text, 3)"
   ],
   "metadata": {
    "collapsed": false,
    "ExecuteTime": {
     "end_time": "2023-06-09T06:46:49.798294200Z",
     "start_time": "2023-06-09T06:46:49.792310100Z"
    }
   }
  },
  {
   "cell_type": "code",
   "execution_count": 20,
   "outputs": [
    {
     "data": {
      "text/plain": "<re.Match object; span=(0, 0), match=''>"
     },
     "execution_count": 20,
     "metadata": {},
     "output_type": "execute_result"
    }
   ],
   "source": [
    "# escape\n",
    "\n",
    "text = r\"Price of \\book: $19.99, movie: $12.50\"\n",
    "pattern = r\"\\b\"\n",
    "\n",
    "re.search(pattern, text)"
   ],
   "metadata": {
    "collapsed": false,
    "ExecuteTime": {
     "end_time": "2023-06-09T07:23:35.426128200Z",
     "start_time": "2023-06-09T07:23:35.418812700Z"
    }
   }
  },
  {
   "cell_type": "code",
   "execution_count": 21,
   "outputs": [
    {
     "data": {
      "text/plain": "<re.Match object; span=(9, 11), match='\\\\b'>"
     },
     "execution_count": 21,
     "metadata": {},
     "output_type": "execute_result"
    }
   ],
   "source": [
    "re.search(re.escape(pattern), text)"
   ],
   "metadata": {
    "collapsed": false,
    "ExecuteTime": {
     "end_time": "2023-06-09T07:23:38.688708100Z",
     "start_time": "2023-06-09T07:23:38.681143800Z"
    }
   }
  },
  {
   "cell_type": "code",
   "execution_count": 23,
   "outputs": [
    {
     "data": {
      "text/plain": "['19', '99', '12', '50']"
     },
     "execution_count": 23,
     "metadata": {},
     "output_type": "execute_result"
    }
   ],
   "source": [
    "# compile\n",
    "\n",
    "text = \"Price of book: $19.99, movie: $12.50\"\n",
    "pattern = \"\\d+\"\n",
    "\n",
    "regex = re.compile(pattern)\n",
    "regex.findall(text)"
   ],
   "metadata": {
    "collapsed": false,
    "ExecuteTime": {
     "end_time": "2023-06-09T07:34:44.027934600Z",
     "start_time": "2023-06-09T07:34:44.024946100Z"
    }
   }
  },
  {
   "cell_type": "markdown",
   "source": [
    "# MATCH OBJECT"
   ],
   "metadata": {
    "collapsed": false
   }
  },
  {
   "cell_type": "code",
   "execution_count": 29,
   "outputs": [],
   "source": [
    "pattern = \"(\\d{3})-(\\d{3}-\\d{4})\"\n",
    "text = \"My phone number is 222-333-4444\"\n",
    "\n",
    "match = re.search(pattern, text)"
   ],
   "metadata": {
    "collapsed": false,
    "ExecuteTime": {
     "end_time": "2023-06-09T09:29:40.872692300Z",
     "start_time": "2023-06-09T09:29:40.872692300Z"
    }
   }
  },
  {
   "cell_type": "code",
   "execution_count": 32,
   "outputs": [
    {
     "name": "stdout",
     "output_type": "stream",
     "text": [
      "Matched phone number: 222-333-4444\n",
      "Area code: 222\n",
      "Phone number: 333-4444\n",
      "Start position: 19\n",
      "End position: 31\n",
      "Span: (19, 31)\n"
     ]
    }
   ],
   "source": [
    "if match:\n",
    "    print(f'Matched phone number: {match.group()}')\n",
    "    print(f'Area code: {match.group(1)}')\n",
    "    print(f'Phone number: {match.group(2)}')\n",
    "    print(f'Start position: {match.start()}')\n",
    "    print(f'End position: {match.end()}')\n",
    "    print(f'Span: {match.span()}')"
   ],
   "metadata": {
    "collapsed": false,
    "ExecuteTime": {
     "end_time": "2023-06-09T09:31:06.088486400Z",
     "start_time": "2023-06-09T09:31:06.071423400Z"
    }
   }
  },
  {
   "cell_type": "markdown",
   "source": [
    "# FLAGS"
   ],
   "metadata": {
    "collapsed": false
   }
  },
  {
   "cell_type": "code",
   "execution_count": 34,
   "outputs": [
    {
     "name": "stdout",
     "output_type": "stream",
     "text": [
      "None\n",
      "<re.Match object; span=(0, 5), match='Hello'>\n"
     ]
    }
   ],
   "source": [
    "# re.IGNORECASE\n",
    "\n",
    "pattern = 'hello'\n",
    "text = 'Hello world!'\n",
    "\n",
    "print(re.search(pattern, text))\n",
    "print(re.search(pattern, text, re.IGNORECASE))"
   ],
   "metadata": {
    "collapsed": false,
    "ExecuteTime": {
     "end_time": "2023-06-09T09:39:05.120964Z",
     "start_time": "2023-06-09T09:39:05.110802300Z"
    }
   }
  },
  {
   "cell_type": "code",
   "execution_count": 35,
   "outputs": [
    {
     "name": "stdout",
     "output_type": "stream",
     "text": [
      "None\n",
      "<re.Match object; span=(0, 11), match='hello\\nworld'>\n"
     ]
    }
   ],
   "source": [
    "# re.DOTALL\n",
    "\n",
    "pattern = 'hello.*world'\n",
    "text = 'hello\\nworld!'\n",
    "\n",
    "print(re.search(pattern, text))\n",
    "print(re.search(pattern, text, re.DOTALL))"
   ],
   "metadata": {
    "collapsed": false,
    "ExecuteTime": {
     "end_time": "2023-06-09T09:49:48.669325900Z",
     "start_time": "2023-06-09T09:49:48.631704700Z"
    }
   }
  },
  {
   "cell_type": "code",
   "execution_count": 37,
   "outputs": [
    {
     "name": "stdout",
     "output_type": "stream",
     "text": [
      "hello\n",
      "world\n"
     ]
    }
   ],
   "source": [
    "print(re.search(pattern, text, re.DOTALL).group())"
   ],
   "metadata": {
    "collapsed": false,
    "ExecuteTime": {
     "end_time": "2023-06-09T09:51:15.899247200Z",
     "start_time": "2023-06-09T09:51:15.893660200Z"
    }
   }
  },
  {
   "cell_type": "code",
   "execution_count": 40,
   "outputs": [
    {
     "data": {
      "text/plain": "[]"
     },
     "execution_count": 40,
     "metadata": {},
     "output_type": "execute_result"
    }
   ],
   "source": [
    "# re.MULTILINE\n",
    "\n",
    "pattern = '^\\d+'\n",
    "text = 'Line 1\\nLine 2\\nLine 3'\n",
    "\n",
    "re.findall(pattern, text, re.MULTILINE)"
   ],
   "metadata": {
    "collapsed": false,
    "ExecuteTime": {
     "end_time": "2023-06-09T09:58:48.426559800Z",
     "start_time": "2023-06-09T09:58:48.410552500Z"
    }
   }
  },
  {
   "cell_type": "code",
   "execution_count": 41,
   "outputs": [
    {
     "data": {
      "text/plain": "['1', '2', '3']"
     },
     "execution_count": 41,
     "metadata": {},
     "output_type": "execute_result"
    }
   ],
   "source": [
    "pattern = '\\d+$'\n",
    "text = 'Line 1\\nLine 2\\nLine 3'\n",
    "\n",
    "re.findall(pattern, text, re.MULTILINE)"
   ],
   "metadata": {
    "collapsed": false,
    "ExecuteTime": {
     "end_time": "2023-06-09T09:59:09.612554700Z",
     "start_time": "2023-06-09T09:59:09.596599Z"
    }
   }
  },
  {
   "cell_type": "markdown",
   "source": [
    "# SEARCH AND MATCHING PATTERNS IN FILES"
   ],
   "metadata": {
    "collapsed": false
   }
  },
  {
   "cell_type": "code",
   "execution_count": 4,
   "outputs": [
    {
     "name": "stdout",
     "output_type": "stream",
     "text": [
      "Found a match in line:  This is a sample.\n",
      "\n"
     ]
    }
   ],
   "source": [
    "# Match Word\n",
    "\n",
    "with open(\"sample1.txt\", \"r\") as f:\n",
    "    for line in f:\n",
    "        match = re.search(\"sample\", line)\n",
    "        if match:\n",
    "            print(\"Found a match in line: \", line)\n",
    "            break"
   ],
   "metadata": {
    "collapsed": false,
    "ExecuteTime": {
     "end_time": "2023-06-12T02:52:54.906214Z",
     "start_time": "2023-06-12T02:52:54.895117200Z"
    }
   }
  },
  {
   "cell_type": "code",
   "execution_count": 5,
   "outputs": [
    {
     "name": "stdout",
     "output_type": "stream",
     "text": [
      "['f1.doc', 'f2.docx', 'f3.pdf']\n"
     ]
    }
   ],
   "source": [
    "# Search a file for file names\n",
    "\n",
    "file_extensions = ['pdf', 'doc', 'docx', 'xls', 'xlsx', 'ppt', 'pptx']\n",
    "\n",
    "with open(\"sample2.txt\", \"r\") as f:\n",
    "    text = f.read()\n",
    "    pattern = r'\\b\\w+\\.(?:' + '|'.join(file_extensions) + r')\\b'\n",
    "    matches = re.findall(pattern, text)\n",
    "\n",
    "print(matches)"
   ],
   "metadata": {
    "collapsed": false,
    "ExecuteTime": {
     "end_time": "2023-06-12T03:16:55.744096Z",
     "start_time": "2023-06-12T03:16:55.731280Z"
    }
   }
  },
  {
   "cell_type": "code",
   "execution_count": 4,
   "outputs": [
    {
     "name": "stdout",
     "output_type": "stream",
     "text": [
      "Phone number found: 123-456-7890\n",
      "Email address found: john.doe@example.com\n",
      "Zip code found: 54321\n",
      "Order number found: AB-1234-5678\n",
      "Hex color code found: #FF5733\n"
     ]
    }
   ],
   "source": [
    "# Searching and matching patterns in files\n",
    "\n",
    "phone_pattern = r'\\d{3}-\\d{3}-\\d{4}'\n",
    "email_pattern = r'\\b[A-za-z0-9._%+-]+@[A-Za-z0-9.-]+\\.[A-Z|a-z]{2,}\\b'\n",
    "zip_pattern = r'\\b\\d{5}(?:-\\d{4})?\\b'\n",
    "order_pattern = r'\\b[A-Z]{2}-\\d{4}-\\d{4}\\b'\n",
    "hex_pattern = r'#[A-Fa-f0-9]{6}'\n",
    "\n",
    "with open('sample3.txt', 'r') as f:\n",
    "    text = f.read()\n",
    "    phone_match = re.search(phone_pattern, text)\n",
    "    email_match = re.search(email_pattern, text)\n",
    "    zip_match = re.search(zip_pattern, text)\n",
    "    order_match = re.search(order_pattern, text)\n",
    "    hex_match = re.search(hex_pattern, text)\n",
    "\n",
    "if phone_match:\n",
    "    print(f'Phone number found: {phone_match.group()}')\n",
    "if email_match:\n",
    "    print(f'Email address found: {email_match.group()}')\n",
    "if zip_match:\n",
    "    print(f'Zip code found: {zip_match.group()}')\n",
    "if order_match:\n",
    "    print(f'Order number found: {order_match.group()}')\n",
    "if hex_match:\n",
    "    print(f'Hex color code found: {hex_match.group()}')"
   ],
   "metadata": {
    "collapsed": false,
    "ExecuteTime": {
     "end_time": "2023-06-19T09:05:33.146992700Z",
     "start_time": "2023-06-19T09:05:33.137192900Z"
    }
   }
  },
  {
   "cell_type": "code",
   "execution_count": 6,
   "outputs": [
    {
     "name": "stdout",
     "output_type": "stream",
     "text": [
      "All product codes: ['AB12-CD34', '123-456', 'EF56-GH78']\n"
     ]
    }
   ],
   "source": [
    "# Find custom product codes in a file\n",
    "\n",
    "with open(\"sample4.txt\", \"r\") as f:\n",
    "    text = f.read()\n",
    "\n",
    "pattern = r'\\b[A-Z]{2}\\d{2}-[A-Z]{2}\\d{2}\\b|\\b\\d{3}-\\d{3}\\b'\n",
    "matches = re.findall(pattern, text)\n",
    "\n",
    "print (\"All product codes:\", matches)"
   ],
   "metadata": {
    "collapsed": false,
    "ExecuteTime": {
     "end_time": "2023-06-19T09:12:09.216447700Z",
     "start_time": "2023-06-19T09:12:09.197003500Z"
    }
   }
  },
  {
   "cell_type": "code",
   "execution_count": 15,
   "outputs": [],
   "source": [
    "# Find custom product codes in multiple files\n",
    "\n",
    "import os\n",
    "\n",
    "def extract_product_codes(file_path, output_file):\n",
    "    with open(file_path, 'r') as f:\n",
    "        text = f.read()\n",
    "        pattern = r'\\b[A-Z]{2}\\d{2}-[A-Z]{2}\\d{2}\\b|\\b\\d{3}-\\d{3}\\b'\n",
    "        matches = re.findall(pattern, text)\n",
    "\n",
    "    with open(output_file, 'w') as output_f:\n",
    "        for match in matches:\n",
    "            output_f.write(f'{match}\\n')\n",
    "\n",
    "file_pairs = [('file1.txt', 'code1.txt'), ('file2.txt', 'code2.txt')]\n",
    "\n",
    "for input_file, output_file in file_pairs:\n",
    "    input_path = os.path.join('input', input_file)\n",
    "    output_path = os.path.join('output', output_file)\n",
    "    extract_product_codes(input_path, output_path)"
   ],
   "metadata": {
    "collapsed": false,
    "ExecuteTime": {
     "end_time": "2023-06-19T10:27:49.374754800Z",
     "start_time": "2023-06-19T10:27:49.359360600Z"
    }
   }
  },
  {
   "cell_type": "markdown",
   "source": [
    "# VALIDATING USER INPUT AND DATA"
   ],
   "metadata": {
    "collapsed": false
   }
  },
  {
   "cell_type": "code",
   "execution_count": 20,
   "outputs": [
    {
     "name": "stdout",
     "output_type": "stream",
     "text": [
      "Valid username!\n"
     ]
    }
   ],
   "source": [
    "# Check if a username meets the requirement\n",
    "\n",
    "def validate_username (username):\n",
    "    pattern = r\"^[a-zA-Z]+[\\w]*$\"\n",
    "\n",
    "    match = re.fullmatch(pattern, username)\n",
    "    return match is not None\n",
    "\n",
    "user_input = input(\"Enter a username: \")\n",
    "\n",
    "if validate_username(user_input):\n",
    "    print(\"Valid username!\")\n",
    "else:\n",
    "    print(\"Invalid username.\")"
   ],
   "metadata": {
    "collapsed": false,
    "ExecuteTime": {
     "end_time": "2023-06-19T10:59:10.894905900Z",
     "start_time": "2023-06-19T10:59:08.835246700Z"
    }
   }
  },
  {
   "cell_type": "code",
   "execution_count": 22,
   "outputs": [
    {
     "name": "stdout",
     "output_type": "stream",
     "text": [
      "Invalid number.\n"
     ]
    }
   ],
   "source": [
    "# Checking numeric data\n",
    "\n",
    "def validate_strictly_numeric(input_string):\n",
    "    pattern = r\"^\\d+$\" # không nhận số âm, số thập phân,...\n",
    "    match = re.search(pattern, input_string)\n",
    "    return match is not None\n",
    "\n",
    "user_input = input(\"Enter a number: \")\n",
    "\n",
    "if validate_strictly_numeric(user_input):\n",
    "    print(\"Valid number!\")\n",
    "else:\n",
    "    print(\"Invalid number.\")"
   ],
   "metadata": {
    "collapsed": false,
    "ExecuteTime": {
     "end_time": "2023-06-19T11:01:03.298481100Z",
     "start_time": "2023-06-19T11:00:57.738211500Z"
    }
   }
  },
  {
   "cell_type": "code",
   "execution_count": 23,
   "outputs": [
    {
     "name": "stdout",
     "output_type": "stream",
     "text": [
      "Valid number!\n"
     ]
    }
   ],
   "source": [
    "def validate_numeric(input_string):\n",
    "    pattern = r\"^-?\\d+(\\.\\d+)?$\" # không nhận số âm, số thập phân,...\n",
    "    match = re.search(pattern, input_string)\n",
    "    return match is not None\n",
    "\n",
    "user_input = input(\"Enter a number: \")\n",
    "\n",
    "if validate_numeric(user_input):\n",
    "    print(\"Valid number!\")\n",
    "else:\n",
    "    print(\"Invalid number.\")"
   ],
   "metadata": {
    "collapsed": false,
    "ExecuteTime": {
     "end_time": "2023-06-19T11:03:41.988947200Z",
     "start_time": "2023-06-19T11:03:37.478513Z"
    }
   }
  },
  {
   "cell_type": "code",
   "execution_count": 3,
   "outputs": [],
   "source": [
    "# Validating email addresses\n",
    "\n",
    "email_pattern = re.compile(r'^[a-zA-Z0-9._%+-]+@[a-zA-Z0-9.-]+\\.[a-zA-Z]{2,}$')\n",
    "\n",
    "with open('email_list.txt', 'r') as input_file:\n",
    "    email_addresses = input_file.readlines()\n",
    "\n",
    "invalid_emails = [email.strip() for email in email_addresses if not email_pattern.match(email.strip())]\n",
    "\n",
    "with open('invalid_emails.txt', 'w') as output_file:\n",
    "    for invalid_email in invalid_emails:\n",
    "        output_file.write(f\"{invalid_email}\\n\")"
   ],
   "metadata": {
    "collapsed": false,
    "ExecuteTime": {
     "end_time": "2023-06-20T09:21:54.689233200Z",
     "start_time": "2023-06-20T09:21:54.684736500Z"
    }
   }
  },
  {
   "cell_type": "code",
   "execution_count": 17,
   "outputs": [
    {
     "name": "stdout",
     "output_type": "stream",
     "text": [
      "Valid input!\n"
     ]
    }
   ],
   "source": [
    "# Validate input and prevent code in injection\n",
    "\n",
    "def sanitize_input(input_string):\n",
    "    sanitized_string = re.sub(r\"[;'\\\"]\", \"\", input_string)\n",
    "    return sanitized_string\n",
    "\n",
    "def validate_string_no_code_injection(input_string):\n",
    "    pattern = r\"^[^;'\\\"]*$\"\n",
    "    match = re.search(pattern, input_string)\n",
    "    return match is not None\n",
    "\n",
    "user_input = input(\"Enter a string to check for code injection: \")\n",
    "sanitized_input = sanitize_input(user_input)\n",
    "\n",
    "if validate_string_no_code_injection(sanitized_input):\n",
    "    print(\"Valid input!\")\n",
    "else:\n",
    "    print(\"Invalid input. Detected potentially harmful characters.\")"
   ],
   "metadata": {
    "collapsed": false,
    "ExecuteTime": {
     "end_time": "2023-06-20T09:46:09.573459900Z",
     "start_time": "2023-06-20T09:45:58.326834900Z"
    }
   }
  },
  {
   "cell_type": "code",
   "execution_count": 5,
   "outputs": [
    {
     "name": "stdout",
     "output_type": "stream",
     "text": [
      "IP Address: 1.\n",
      "IP Address: 1.\n",
      "IP Address: 0.\n",
      "IP Address: 0.\n",
      "IP Address: 113.\n"
     ]
    }
   ],
   "source": [
    "# Get all the IP addresses from our log file\n",
    "\n",
    "def extract_ip_addresses(log_line):\n",
    "    pattern = r\"(\\d{1,3}\\.){3}\\d{1,3}\"\n",
    "\n",
    "    ip_addresses = re.findall(pattern, log_line)\n",
    "\n",
    "    for ip in ip_addresses:\n",
    "        print(f\"IP Address: {ip}\")\n",
    "\n",
    "with open(\"sample1.log\", \"r\") as f:\n",
    "    for line in f:\n",
    "        extract_ip_addresses (line)"
   ],
   "metadata": {
    "collapsed": false,
    "ExecuteTime": {
     "end_time": "2023-06-21T07:48:25.392830600Z",
     "start_time": "2023-06-21T07:48:25.372637800Z"
    }
   }
  },
  {
   "cell_type": "code",
   "execution_count": 6,
   "outputs": [
    {
     "name": "stdout",
     "output_type": "stream",
     "text": [
      "IP Address: 192.168.1.100\n",
      "IP Address: 192.168.1.101\n",
      "IP Address: 10.0.0.2\n",
      "IP Address: 172.16.0.5\n",
      "IP Address: 203.0.113.25\n"
     ]
    }
   ],
   "source": [
    "def extract_ip_addresses(log_line):\n",
    "    pattern = r\"(?:\\d{1,3}\\.){3}\\d{1,3}\"\n",
    "\n",
    "    ip_addresses = re.findall(pattern, log_line)\n",
    "\n",
    "    for ip in ip_addresses:\n",
    "        print(f\"IP Address: {ip}\")\n",
    "\n",
    "with open(\"sample1.log\", \"r\") as f:\n",
    "    for line in f:\n",
    "        extract_ip_addresses (line)"
   ],
   "metadata": {
    "collapsed": false,
    "ExecuteTime": {
     "end_time": "2023-06-21T07:48:27.052355Z",
     "start_time": "2023-06-21T07:48:27.048129600Z"
    }
   }
  },
  {
   "cell_type": "code",
   "execution_count": 8,
   "outputs": [
    {
     "name": "stdout",
     "output_type": "stream",
     "text": [
      "Log Entry Type: INFO\n",
      "Log Entry Type: INFO\n",
      "Log Entry Type: ERROR\n",
      "Log Entry Type: INFO\n",
      "Log Entry Type: WARNING\n"
     ]
    }
   ],
   "source": [
    "# Find different types of log entries\n",
    "\n",
    "def identify_log_entry_type(log_line):\n",
    "    pattern = r\"(INFO|WARNING|ERROR)\"\n",
    "\n",
    "    match = re.search(pattern, log_line)\n",
    "\n",
    "    if match:\n",
    "        log_type = match.group(1)\n",
    "        print(f\"Log Entry Type: {log_type}\")\n",
    "\n",
    "with open(\"sample1.log\", \"r\") as f:\n",
    "    for line in f:\n",
    "        identify_log_entry_type(line)"
   ],
   "metadata": {
    "collapsed": false,
    "ExecuteTime": {
     "end_time": "2023-06-21T07:50:49.807313400Z",
     "start_time": "2023-06-21T07:50:49.792653300Z"
    }
   }
  },
  {
   "cell_type": "code",
   "execution_count": 9,
   "outputs": [
    {
     "name": "stdout",
     "output_type": "stream",
     "text": [
      "404 error found: 2022-04-08 10:34:27 [ERROR 404] Failed connection from 10.0.0.2\n",
      "\n"
     ]
    }
   ],
   "source": [
    "# Extract error codes from log files\n",
    "\n",
    "def search_for_error_code(log_line, error_code):\n",
    "    pattern = r\"ERROR (\\d+)\"\n",
    "\n",
    "    match = re.search(pattern, log_line)\n",
    "    if match and match.group(1) == error_code:\n",
    "        print(f\"{error_code} error found:\", log_line)\n",
    "\n",
    "with open(\"sample1.log\", \"r\") as f:\n",
    "    for line in f:\n",
    "        search_for_error_code(line, \"404\")\n"
   ],
   "metadata": {
    "collapsed": false,
    "ExecuteTime": {
     "end_time": "2023-06-21T09:53:55.266909400Z",
     "start_time": "2023-06-21T09:53:55.256391800Z"
    }
   }
  },
  {
   "cell_type": "code",
   "execution_count": 10,
   "outputs": [
    {
     "name": "stdout",
     "output_type": "stream",
     "text": [
      "Error found: [ERROR] This is a sample log message.\n",
      "Error found: [ERROR] This is a sample log message.\n",
      "Error found: [ERROR] This is a sample log message.\n",
      "Error found: [ERROR] This is a sample log message.\n",
      "Error found: [ERROR] This is a sample log message.\n",
      "Error found: [ERROR] This is a sample log message.\n",
      "Error found: [ERROR] This is a sample log message.\n",
      "Error found: [ERROR] This is a sample log message.\n",
      "Error found: [ERROR] This is a sample log message.\n",
      "Error found: [ERROR] This is a sample log message.\n",
      "Error found: [ERROR] This is a sample log message.\n",
      "Error found: [ERROR] This is a sample log message.\n",
      "Error found: [ERROR] This is a sample log message.\n",
      "Error found: [ERROR] This is a sample log message.\n",
      "Error found: [ERROR] This is a sample log message.\n",
      "Error found: [ERROR] This is a sample log message.\n",
      "Error found: [ERROR] This is a sample log message.\n",
      "Error found: [ERROR] This is a sample log message.\n",
      "Error found: [ERROR] This is a sample log message.\n",
      "Error found: [ERROR] This is a sample log message.\n",
      "Error found: [ERROR] This is a sample log message.\n",
      "Error found: [ERROR] This is a sample log message.\n",
      "Error found: [ERROR] This is a sample log message.\n",
      "Error found: [ERROR] This is a sample log message.\n",
      "Error found: [ERROR] This is a sample log message.\n",
      "Error found: [ERROR] This is a sample log message.\n",
      "Error found: [ERROR] This is a sample log message.\n",
      "Error found: [ERROR] This is a sample log message.\n",
      "Error found: [ERROR] This is a sample log message.\n",
      "Error found: [ERROR] This is a sample log message.\n",
      "Error found: [ERROR] This is a sample log message.\n",
      "Error found: [ERROR] This is a sample log message.\n",
      "Error found: [ERROR] This is a sample log message.\n",
      "Error found: [ERROR] This is a sample log message.\n",
      "Error found: [ERROR] This is a sample log message.\n",
      "Error found: [ERROR] This is a sample log message.\n",
      "Error found: [ERROR] This is a sample log message.\n",
      "Error found: [ERROR] This is a sample log message.\n",
      "Error found: [ERROR] This is a sample log message.\n"
     ]
    },
    {
     "ename": "KeyboardInterrupt",
     "evalue": "",
     "output_type": "error",
     "traceback": [
      "\u001B[1;31m---------------------------------------------------------------------------\u001B[0m",
      "\u001B[1;31mKeyboardInterrupt\u001B[0m                         Traceback (most recent call last)",
      "Cell \u001B[1;32mIn[10], line 24\u001B[0m\n\u001B[0;32m     22\u001B[0m line \u001B[38;5;241m=\u001B[39m get_live_logging_data()\n\u001B[0;32m     23\u001B[0m filter_errors(line)\n\u001B[1;32m---> 24\u001B[0m time\u001B[38;5;241m.\u001B[39msleep(\u001B[38;5;241m1\u001B[39m) \u001B[38;5;66;03m# Pause for 1 second before fetching the next log entry\u001B[39;00m\n",
      "\u001B[1;31mKeyboardInterrupt\u001B[0m: "
     ]
    }
   ],
   "source": [
    "# Filter a live log stream for error codes\n",
    "\n",
    "import time\n",
    "import random\n",
    "\n",
    "# Simulate getting live logging data\n",
    "def get_live_logging_data():\n",
    "    log_levels = [\"INFO\", \"WARNING\", \"ERROR\"]\n",
    "    log_level = random.choice(log_levels)\n",
    "    return f\"[{log_level}] This is a sample log message.\"\n",
    "\n",
    "# Define a function to filter for errors in live logging data\n",
    "def filter_errors(log_line):\n",
    "    pattern = r\"\\[(ERROR)\\]\"\n",
    "\n",
    "    match = re.search(pattern, log_line)\n",
    "    if match:\n",
    "        print(\"Error found:\", log_line)\n",
    "\n",
    "# Simulate live logging system\n",
    "while True:\n",
    "    line = get_live_logging_data()\n",
    "    filter_errors(line)\n",
    "    time.sleep(1) # Pause for 1 second before fetching the next log entry"
   ],
   "metadata": {
    "collapsed": false,
    "ExecuteTime": {
     "end_time": "2023-06-21T09:59:29.055823200Z",
     "start_time": "2023-06-21T09:57:17.971248400Z"
    }
   }
  },
  {
   "cell_type": "code",
   "execution_count": 11,
   "outputs": [
    {
     "name": "stdout",
     "output_type": "stream",
     "text": [
      "Date: 2022-04-08\n",
      "Type: 10:34:22\n",
      "Message: [INFO] Request from 192.168.1.100: GET /index.html \n",
      "Date: 2022-04-08\n",
      "Type: 10:34:24\n",
      "Message: [INFO] Request from 192.168.1.101: POST /api/data \n",
      "Date: 2022-04-08\n",
      "Type: 10:34:27\n",
      "Message: [ERROR 404] Failed connection from 10.0.0.2 \n",
      "Date: 2022-04-08\n",
      "Type: 10:34:29\n",
      "Message: [ERROR 401] Request from 172.16.0.5: PUT /api/update \n",
      "Date: 2022-04-08\n",
      "Type: 10:34:32\n",
      "Message: [WARNING] Suspicious activity from 203.0.113.25\n"
     ]
    }
   ],
   "source": [
    "# Split entries of a log file using the split function\n",
    "\n",
    "def split_log_entry(log_line):\n",
    "    pattern = r\"\\s+\"\n",
    "\n",
    "    parts = re.split(pattern, log_line)\n",
    "\n",
    "    print(\"Date:\", parts[0])\n",
    "    print(\"Type:\", parts[1])\n",
    "    print(\"Message:\", \" \".join(parts[2:]))\n",
    "\n",
    "with open(\"sample1.log\", \"r\") as f:\n",
    "    for line in f:\n",
    "        split_log_entry(line)"
   ],
   "metadata": {
    "collapsed": false,
    "ExecuteTime": {
     "end_time": "2023-06-21T10:05:23.496270800Z",
     "start_time": "2023-06-21T10:05:23.485712600Z"
    }
   }
  },
  {
   "cell_type": "markdown",
   "source": [
    "# REPLACING, TRANSFORMING, AND CLEANING DATA"
   ],
   "metadata": {
    "collapsed": false
   }
  },
  {
   "cell_type": "code",
   "execution_count": 15,
   "outputs": [
    {
     "name": "stdout",
     "output_type": "stream",
     "text": [
      "Cleaned phone number: (111) 333-5678\n"
     ]
    }
   ],
   "source": [
    "# Standardize phone numbers based on user input\n",
    "\n",
    "def clean_phone_number(phone_number):\n",
    "    digits_only = re.sub(r\"\\D\", \"\", phone_number)\n",
    "    if len(digits_only) != 10:\n",
    "        return None\n",
    "\n",
    "    formatted_number = f\"({digits_only[:3]}) {digits_only[3:6]}-{digits_only[6:]}\"\n",
    "    return formatted_number\n",
    "\n",
    "user_input = input(\"Enter your phone number: \")\n",
    "\n",
    "cleaned_number = clean_phone_number(user_input)\n",
    "\n",
    "if cleaned_number:\n",
    "    print(\"Cleaned phone number:\", cleaned_number)\n",
    "else:\n",
    "    print(\"InvaLid phone number.\")"
   ],
   "metadata": {
    "collapsed": false,
    "ExecuteTime": {
     "end_time": "2023-06-21T10:14:32.809661600Z",
     "start_time": "2023-06-21T10:14:24.034792600Z"
    }
   }
  },
  {
   "cell_type": "code",
   "execution_count": 16,
   "outputs": [
    {
     "name": "stdout",
     "output_type": "stream",
     "text": [
      "Misspellings corrected!\n"
     ]
    }
   ],
   "source": [
    "# Replace misspelled words in a document\n",
    "\n",
    "def replace_misspellings(text, corrections):\n",
    "    for misspelled, correct in corrections.items():\n",
    "        pattern = re.compile(rf\"\\b{misspelled}\\b\", re.IGNORECASE)\n",
    "        text = pattern.sub(correct, text)\n",
    "    return text\n",
    "\n",
    "corrections = {\n",
    "\"recieve\": \"receive\",\n",
    "\"adress\": \"address\",\n",
    "\"acomodate\": \"accommodate\"\n",
    "}\n",
    "\n",
    "with open(\"document.txt\", \"r\") as f:\n",
    "    content = f.read()\n",
    "\n",
    "corrected_content = replace_misspellings (content, corrections)\n",
    "\n",
    "with open(\"corrected_document.txt\", \"w\") as f:\n",
    "    f.write(corrected_content)\n",
    "print(\"Misspellings corrected!\")"
   ],
   "metadata": {
    "collapsed": false,
    "ExecuteTime": {
     "end_time": "2023-06-21T10:19:36.738313600Z",
     "start_time": "2023-06-21T10:19:36.718280200Z"
    }
   }
  },
  {
   "cell_type": "code",
   "execution_count": 17,
   "outputs": [
    {
     "data": {
      "text/plain": "['B', 'D', 'F', 'H']"
     },
     "execution_count": 17,
     "metadata": {},
     "output_type": "execute_result"
    }
   ],
   "source": [
    "# Find all the uppercase letters preceded by a lowercase letter adn followed by a digit\n",
    "\n",
    "text = \"aB3cD4eF5gH6\"\n",
    "pattern = \"(?<=[a-z])[A-Z](?=\\d)\"\n",
    "\n",
    "re.findall(pattern, text)"
   ],
   "metadata": {
    "collapsed": false,
    "ExecuteTime": {
     "end_time": "2023-06-21T10:24:54.571419200Z",
     "start_time": "2023-06-21T10:24:54.547061700Z"
    }
   }
  },
  {
   "cell_type": "code",
   "execution_count": 18,
   "outputs": [
    {
     "name": "stdout",
     "output_type": "stream",
     "text": [
      "Dates and prices reformatted!\n"
     ]
    }
   ],
   "source": [
    "# Replace prices and date with the required format\n",
    "\n",
    "def reformat_dates(text):\n",
    "    pattern = r\"(?<=Date: )\\d{2}/\\d{2}/\\d{4}\"\n",
    "    return re.sub(pattern, lambda m: m.group(0)[6:] + '-' + m.group(0)[:5], text)\n",
    "\n",
    "def reformat_prices(text):\n",
    "    pattern = r\"(?<=Price: )\\$\\d{1,3}(?:,\\d{3})*\"\n",
    "    return re.sub(pattern, lambda m: m.group(0).replace(',', ''), text)\n",
    "\n",
    "with open(\"invoice.txt\", \"r\") as f:\n",
    "    content = f.read()\n",
    "\n",
    "content = reformat_dates(content)\n",
    "content = reformat_prices(content)\n",
    "\n",
    "with open(\"reformatted_invoice.txt\", \"w\") as f:\n",
    "    f.write(content)\n",
    "\n",
    "print(\"Dates and prices reformatted!\")"
   ],
   "metadata": {
    "collapsed": false,
    "ExecuteTime": {
     "end_time": "2023-06-21T10:47:53.566942Z",
     "start_time": "2023-06-21T10:47:53.512063700Z"
    }
   }
  },
  {
   "cell_type": "code",
   "execution_count": 19,
   "outputs": [
    {
     "data": {
      "text/plain": "'I Am Your'"
     },
     "execution_count": 19,
     "metadata": {},
     "output_type": "execute_result"
    }
   ],
   "source": [
    "re.sub(r\"\\b\\w\",lambda m: m[0].upper(),\"i am your\")"
   ],
   "metadata": {
    "collapsed": false,
    "ExecuteTime": {
     "end_time": "2023-06-21T10:49:18.336898Z",
     "start_time": "2023-06-21T10:49:18.317170300Z"
    }
   }
  },
  {
   "cell_type": "code",
   "execution_count": 22,
   "outputs": [
    {
     "ename": "IndexError",
     "evalue": "no such group",
     "output_type": "error",
     "traceback": [
      "\u001B[1;31m---------------------------------------------------------------------------\u001B[0m",
      "\u001B[1;31mIndexError\u001B[0m                                Traceback (most recent call last)",
      "Cell \u001B[1;32mIn[22], line 1\u001B[0m\n\u001B[1;32m----> 1\u001B[0m \u001B[43mre\u001B[49m\u001B[38;5;241;43m.\u001B[39;49m\u001B[43msub\u001B[49m\u001B[43m(\u001B[49m\u001B[38;5;124;43mr\u001B[39;49m\u001B[38;5;124;43m\"\u001B[39;49m\u001B[38;5;124;43m(?<=Date: )\u001B[39;49m\u001B[38;5;124;43m\\\u001B[39;49m\u001B[38;5;124;43md\u001B[39;49m\u001B[38;5;132;43;01m{2}\u001B[39;49;00m\u001B[38;5;124;43m/\u001B[39;49m\u001B[38;5;124;43m\\\u001B[39;49m\u001B[38;5;124;43md\u001B[39;49m\u001B[38;5;132;43;01m{2}\u001B[39;49;00m\u001B[38;5;124;43m/\u001B[39;49m\u001B[38;5;124;43m\\\u001B[39;49m\u001B[38;5;124;43md\u001B[39;49m\u001B[38;5;132;43;01m{4}\u001B[39;49;00m\u001B[38;5;124;43m\"\u001B[39;49m\u001B[43m,\u001B[49m\u001B[38;5;28;43;01mlambda\u001B[39;49;00m\u001B[43m \u001B[49m\u001B[43mm\u001B[49m\u001B[43m:\u001B[49m\u001B[43m \u001B[49m\u001B[43mm\u001B[49m\u001B[43m[\u001B[49m\u001B[38;5;241;43m6\u001B[39;49m\u001B[43m:\u001B[49m\u001B[43m]\u001B[49m\u001B[43m \u001B[49m\u001B[38;5;241;43m+\u001B[39;49m\u001B[43m \u001B[49m\u001B[38;5;124;43m'\u001B[39;49m\u001B[38;5;124;43m-\u001B[39;49m\u001B[38;5;124;43m'\u001B[39;49m\u001B[43m \u001B[49m\u001B[38;5;241;43m+\u001B[39;49m\u001B[43m \u001B[49m\u001B[43mm\u001B[49m\u001B[43m[\u001B[49m\u001B[43m:\u001B[49m\u001B[38;5;241;43m5\u001B[39;49m\u001B[43m]\u001B[49m\u001B[43m,\u001B[49m\u001B[38;5;124;43m\"\u001B[39;49m\u001B[38;5;124;43mDate: 04/18/2023\u001B[39;49m\u001B[38;5;124;43m\"\u001B[39;49m\u001B[43m)\u001B[49m\n",
      "File \u001B[1;32m~\\AppData\\Local\\Programs\\Python\\Python311\\Lib\\re\\__init__.py:185\u001B[0m, in \u001B[0;36msub\u001B[1;34m(pattern, repl, string, count, flags)\u001B[0m\n\u001B[0;32m    178\u001B[0m \u001B[38;5;28;01mdef\u001B[39;00m \u001B[38;5;21msub\u001B[39m(pattern, repl, string, count\u001B[38;5;241m=\u001B[39m\u001B[38;5;241m0\u001B[39m, flags\u001B[38;5;241m=\u001B[39m\u001B[38;5;241m0\u001B[39m):\n\u001B[0;32m    179\u001B[0m \u001B[38;5;250m    \u001B[39m\u001B[38;5;124;03m\"\"\"Return the string obtained by replacing the leftmost\u001B[39;00m\n\u001B[0;32m    180\u001B[0m \u001B[38;5;124;03m    non-overlapping occurrences of the pattern in string by the\u001B[39;00m\n\u001B[0;32m    181\u001B[0m \u001B[38;5;124;03m    replacement repl.  repl can be either a string or a callable;\u001B[39;00m\n\u001B[0;32m    182\u001B[0m \u001B[38;5;124;03m    if a string, backslash escapes in it are processed.  If it is\u001B[39;00m\n\u001B[0;32m    183\u001B[0m \u001B[38;5;124;03m    a callable, it's passed the Match object and must return\u001B[39;00m\n\u001B[0;32m    184\u001B[0m \u001B[38;5;124;03m    a replacement string to be used.\"\"\"\u001B[39;00m\n\u001B[1;32m--> 185\u001B[0m     \u001B[38;5;28;01mreturn\u001B[39;00m \u001B[43m_compile\u001B[49m\u001B[43m(\u001B[49m\u001B[43mpattern\u001B[49m\u001B[43m,\u001B[49m\u001B[43m \u001B[49m\u001B[43mflags\u001B[49m\u001B[43m)\u001B[49m\u001B[38;5;241;43m.\u001B[39;49m\u001B[43msub\u001B[49m\u001B[43m(\u001B[49m\u001B[43mrepl\u001B[49m\u001B[43m,\u001B[49m\u001B[43m \u001B[49m\u001B[43mstring\u001B[49m\u001B[43m,\u001B[49m\u001B[43m \u001B[49m\u001B[43mcount\u001B[49m\u001B[43m)\u001B[49m\n",
      "Cell \u001B[1;32mIn[22], line 1\u001B[0m, in \u001B[0;36m<lambda>\u001B[1;34m(m)\u001B[0m\n\u001B[1;32m----> 1\u001B[0m re\u001B[38;5;241m.\u001B[39msub(\u001B[38;5;124mr\u001B[39m\u001B[38;5;124m\"\u001B[39m\u001B[38;5;124m(?<=Date: )\u001B[39m\u001B[38;5;124m\\\u001B[39m\u001B[38;5;124md\u001B[39m\u001B[38;5;132;01m{2}\u001B[39;00m\u001B[38;5;124m/\u001B[39m\u001B[38;5;124m\\\u001B[39m\u001B[38;5;124md\u001B[39m\u001B[38;5;132;01m{2}\u001B[39;00m\u001B[38;5;124m/\u001B[39m\u001B[38;5;124m\\\u001B[39m\u001B[38;5;124md\u001B[39m\u001B[38;5;132;01m{4}\u001B[39;00m\u001B[38;5;124m\"\u001B[39m,\u001B[38;5;28;01mlambda\u001B[39;00m m: \u001B[43mm\u001B[49m\u001B[43m[\u001B[49m\u001B[38;5;241;43m6\u001B[39;49m\u001B[43m:\u001B[49m\u001B[43m]\u001B[49m \u001B[38;5;241m+\u001B[39m \u001B[38;5;124m'\u001B[39m\u001B[38;5;124m-\u001B[39m\u001B[38;5;124m'\u001B[39m \u001B[38;5;241m+\u001B[39m m[:\u001B[38;5;241m5\u001B[39m],\u001B[38;5;124m\"\u001B[39m\u001B[38;5;124mDate: 04/18/2023\u001B[39m\u001B[38;5;124m\"\u001B[39m)\n",
      "\u001B[1;31mIndexError\u001B[0m: no such group"
     ]
    }
   ],
   "source": [
    "re.sub(r\"(?<=Date: )\\d{2}/\\d{2}/\\d{4}\",lambda m: m[6:] + '-' + m[:5],\"Date: 04/18/2023\")"
   ],
   "metadata": {
    "collapsed": false,
    "ExecuteTime": {
     "end_time": "2023-06-21T10:50:47.002162Z",
     "start_time": "2023-06-21T10:50:46.952531100Z"
    }
   }
  },
  {
   "cell_type": "code",
   "execution_count": 30,
   "outputs": [
    {
     "ename": "AttributeError",
     "evalue": "'str' object has no attribute 'group'",
     "output_type": "error",
     "traceback": [
      "\u001B[1;31m---------------------------------------------------------------------------\u001B[0m",
      "\u001B[1;31mAttributeError\u001B[0m                            Traceback (most recent call last)",
      "Cell \u001B[1;32mIn[30], line 5\u001B[0m\n\u001B[0;32m      1\u001B[0m m \u001B[38;5;241m=\u001B[39m \u001B[38;5;124mr\u001B[39m\u001B[38;5;124m\"\u001B[39m\u001B[38;5;124m(?<=Date: )\u001B[39m\u001B[38;5;124m\\\u001B[39m\u001B[38;5;124md\u001B[39m\u001B[38;5;132;01m{2}\u001B[39;00m\u001B[38;5;124m/\u001B[39m\u001B[38;5;124m\\\u001B[39m\u001B[38;5;124md\u001B[39m\u001B[38;5;132;01m{2}\u001B[39;00m\u001B[38;5;124m/\u001B[39m\u001B[38;5;124m\\\u001B[39m\u001B[38;5;124md\u001B[39m\u001B[38;5;132;01m{4}\u001B[39;00m\u001B[38;5;124m\"\u001B[39m\n\u001B[0;32m      3\u001B[0m m2 \u001B[38;5;241m=\u001B[39m \u001B[38;5;28;01mlambda\u001B[39;00m x: x\u001B[38;5;241m.\u001B[39mgroup(\u001B[38;5;241m0\u001B[39m)\n\u001B[1;32m----> 5\u001B[0m \u001B[43mm2\u001B[49m\u001B[43m(\u001B[49m\u001B[43mm\u001B[49m\u001B[43m)\u001B[49m\n",
      "Cell \u001B[1;32mIn[30], line 3\u001B[0m, in \u001B[0;36m<lambda>\u001B[1;34m(x)\u001B[0m\n\u001B[0;32m      1\u001B[0m m \u001B[38;5;241m=\u001B[39m \u001B[38;5;124mr\u001B[39m\u001B[38;5;124m\"\u001B[39m\u001B[38;5;124m(?<=Date: )\u001B[39m\u001B[38;5;124m\\\u001B[39m\u001B[38;5;124md\u001B[39m\u001B[38;5;132;01m{2}\u001B[39;00m\u001B[38;5;124m/\u001B[39m\u001B[38;5;124m\\\u001B[39m\u001B[38;5;124md\u001B[39m\u001B[38;5;132;01m{2}\u001B[39;00m\u001B[38;5;124m/\u001B[39m\u001B[38;5;124m\\\u001B[39m\u001B[38;5;124md\u001B[39m\u001B[38;5;132;01m{4}\u001B[39;00m\u001B[38;5;124m\"\u001B[39m\n\u001B[1;32m----> 3\u001B[0m m2 \u001B[38;5;241m=\u001B[39m \u001B[38;5;28;01mlambda\u001B[39;00m x: \u001B[43mx\u001B[49m\u001B[38;5;241;43m.\u001B[39;49m\u001B[43mgroup\u001B[49m(\u001B[38;5;241m0\u001B[39m)\n\u001B[0;32m      5\u001B[0m m2(m)\n",
      "\u001B[1;31mAttributeError\u001B[0m: 'str' object has no attribute 'group'"
     ]
    }
   ],
   "source": [
    "m = r\"(?<=Date: )\\d{2}/\\d{2}/\\d{4}\"\n",
    "\n",
    "m2 = lambda x: x.group(0)\n",
    "\n",
    "m2(m)"
   ],
   "metadata": {
    "collapsed": false,
    "ExecuteTime": {
     "end_time": "2023-06-21T10:55:38.602494800Z",
     "start_time": "2023-06-21T10:55:38.586589800Z"
    }
   }
  },
  {
   "cell_type": "code",
   "execution_count": 33,
   "outputs": [
    {
     "name": "stdout",
     "output_type": "stream",
     "text": [
      "Text without punctuation: The quick brown fox jumps over the lazy dog\n",
      "Lowercase text: the quick brown fox jumps over the lazy dog\n",
      "Tokenized words: ['the', 'quick', 'brown', 'fox', 'jumps', 'over', 'the', 'lazy', 'dog']\n"
     ]
    }
   ],
   "source": [
    "# Tokenize words of a text\n",
    "\n",
    "text = \"The quick, brown fox jumps over the lazy dog!\"\n",
    "\n",
    "no_punctuation = re.sub(r\"[^\\w\\s]\", \"\", text)\n",
    "print(\"Text without punctuation:\", no_punctuation)\n",
    "\n",
    "lowercase_text = no_punctuation.lower()\n",
    "print(\"Lowercase text:\", lowercase_text)\n",
    "\n",
    "words = re.split(r\"\\s+\", lowercase_text)\n",
    "print(\"Tokenized words:\", words)"
   ],
   "metadata": {
    "collapsed": false,
    "ExecuteTime": {
     "end_time": "2023-06-21T11:02:29.761235300Z",
     "start_time": "2023-06-21T11:02:29.750201700Z"
    }
   }
  },
  {
   "cell_type": "code",
   "execution_count": 34,
   "outputs": [],
   "source": [
    "# Prepare a data set with product data for processing\n",
    "\n",
    "import csv\n",
    "\n",
    "def clean_data(row):\n",
    "    date_pattern = r\"(\\d{2})/(\\d{2})/(\\d{4})\"\n",
    "    row[0] = re.sub(date_pattern, r\"\\3-\\1-\\2\", row[0])\n",
    "\n",
    "    price_pattern = r\"[^\\d.]\"\n",
    "    row[1] = re.sub(price_pattern, \"\", row[1])\n",
    "    return row\n",
    "\n",
    "input_file = \"input.csv\"\n",
    "output_file = \"output.csv\"\n",
    "\n",
    "with open(input_file, \"r\") as infile, open(output_file, \"w\", newline=\"\") as outfile:\n",
    "    reader = csv.reader(infile)\n",
    "    writer = csv.writer(outfile)\n",
    "\n",
    "    header = next (reader)\n",
    "    writer.writerow(header)\n",
    "\n",
    "    for row in reader:\n",
    "        cleaned_row = clean_data(row)\n",
    "        writer.writerow(cleaned_row)"
   ],
   "metadata": {
    "collapsed": false,
    "ExecuteTime": {
     "end_time": "2023-06-21T11:08:07.180678700Z",
     "start_time": "2023-06-21T11:08:07.155651700Z"
    }
   }
  },
  {
   "cell_type": "code",
   "execution_count": 38,
   "outputs": [
    {
     "data": {
      "text/plain": "['$']"
     },
     "execution_count": 38,
     "metadata": {},
     "output_type": "execute_result"
    }
   ],
   "source": [
    "price_pattern = r\"[^\\d.]\"\n",
    "\n",
    "re.findall(price_pattern, \"$1200.00\")"
   ],
   "metadata": {
    "collapsed": false,
    "ExecuteTime": {
     "end_time": "2023-06-21T11:13:39.835423900Z",
     "start_time": "2023-06-21T11:13:39.825436700Z"
    }
   }
  },
  {
   "cell_type": "code",
   "execution_count": 39,
   "outputs": [
    {
     "data": {
      "text/plain": "['$', '.']"
     },
     "execution_count": 39,
     "metadata": {},
     "output_type": "execute_result"
    }
   ],
   "source": [
    "price_pattern = r\"[^\\d]\"\n",
    "\n",
    "re.findall(price_pattern, \"$1200.00\")"
   ],
   "metadata": {
    "collapsed": false,
    "ExecuteTime": {
     "end_time": "2023-06-21T11:14:02.075513900Z",
     "start_time": "2023-06-21T11:14:02.055515400Z"
    }
   }
  },
  {
   "cell_type": "code",
   "execution_count": 44,
   "outputs": [
    {
     "name": "stdout",
     "output_type": "stream",
     "text": [
      "Emojis found: ['😋']\n",
      "Mathematical symbols found: ['π']\n",
      "Cleaned text: I love using emojis  and mathematical symbols like π pi\n"
     ]
    }
   ],
   "source": [
    "# Handle Unicode characters\n",
    "\n",
    "text = \"I love using emojis 😋 and mathematical symbols like π (pi)!\"\n",
    "\n",
    "emoji_pattern = r\"[\\U0001F600-\\U0001F64F]\"\n",
    "emojis = re.findall(emoji_pattern, text)\n",
    "print(\"Emojis found:\", emojis)\n",
    "\n",
    "math_symbol_pattern = r\"[\\u2200-\\u22FF\\u0370-\\u03FF]\"\n",
    "math_symbols = re.findall(math_symbol_pattern, text)\n",
    "print(\"Mathematical symbols found:\", math_symbols)\n",
    "\n",
    "clean_text = re.sub(r\"[^\\w\\s]\", \"\", text, flags=re.UNICODE)\n",
    "print(\"Cleaned text:\", clean_text)"
   ],
   "metadata": {
    "collapsed": false,
    "ExecuteTime": {
     "end_time": "2023-06-21T11:17:49.575096400Z",
     "start_time": "2023-06-21T11:17:49.545112400Z"
    }
   }
  },
  {
   "cell_type": "code",
   "execution_count": 46,
   "outputs": [
    {
     "name": "stdout",
     "output_type": "stream",
     "text": [
      "Redacted text:\n",
      "\n",
      "Name: John Doe\n",
      "Email: [REDACTED_EMAIL]\n",
      "Phone: [REDACTED_PHONE]\n",
      "Credit Card: [REDACTED_PHONE]\n",
      "\n"
     ]
    }
   ],
   "source": [
    "# Redacting sensitive data in text\n",
    "\n",
    "text = \"\"\"\n",
    "Name: John Doe\n",
    "Email: john.doe@example.com\n",
    "Phone: +1 (123) 456-7890\n",
    "Credit Card: 1234 5678 9012 3456\n",
    "\"\"\"\n",
    "\n",
    "email_pattern = r\"\\b[A-Za-z0-9._%+-]+@[A-Za-z0-9.-]+\\.[A-Z|a-z]{2,}\\b\"\n",
    "phone_pattern = r\"\\+?\\d{1,4}[-.() \\d]*\\d\"\n",
    "credit_card_pattern = r\"\\b(?:\\d[ -]*?){13,16}\\b\"\n",
    "\n",
    "redacted_text = re.sub(email_pattern, \"[REDACTED_EMAIL]\", text)\n",
    "redacted_text = re.sub(phone_pattern, \"[REDACTED_PHONE]\", redacted_text)\n",
    "redacted_text = re.sub(credit_card_pattern, \"[REDACTED_CC]\", redacted_text)\n",
    "\n",
    "print(\"Redacted text:\")\n",
    "print(redacted_text)"
   ],
   "metadata": {
    "collapsed": false,
    "ExecuteTime": {
     "end_time": "2023-06-21T11:22:03.079985900Z",
     "start_time": "2023-06-21T11:22:03.054919800Z"
    }
   }
  },
  {
   "cell_type": "code",
   "execution_count": 53,
   "outputs": [
    {
     "data": {
      "text/plain": "'+'"
     },
     "execution_count": 53,
     "metadata": {},
     "output_type": "execute_result"
    }
   ],
   "source": [
    "phone_pattern = r\"[-.() \\d]\"\n",
    "phone = \"+1 (123) 456-7890\"\n",
    "\n",
    "re.sub(phone_pattern, \"\", phone)"
   ],
   "metadata": {
    "collapsed": false,
    "ExecuteTime": {
     "end_time": "2023-06-21T11:28:42.054454Z",
     "start_time": "2023-06-21T11:28:42.014699900Z"
    }
   }
  },
  {
   "cell_type": "code",
   "execution_count": 55,
   "outputs": [
    {
     "data": {
      "text/plain": "''"
     },
     "execution_count": 55,
     "metadata": {},
     "output_type": "execute_result"
    }
   ],
   "source": [
    "credit_card_pattern = r\"\\b(?:\\d[ -]*?){13,16}\\b\"\n",
    "credit_card = \"1234 5678 9012 3456\"\n",
    "\n",
    "re.sub(credit_card_pattern, \"\", credit_card)"
   ],
   "metadata": {
    "collapsed": false,
    "ExecuteTime": {
     "end_time": "2023-06-21T11:30:52.107867Z",
     "start_time": "2023-06-21T11:30:52.094884500Z"
    }
   }
  },
  {
   "cell_type": "code",
   "execution_count": null,
   "outputs": [],
   "source": [],
   "metadata": {
    "collapsed": false
   }
  }
 ],
 "metadata": {
  "kernelspec": {
   "display_name": "Python 3",
   "language": "python",
   "name": "python3"
  },
  "language_info": {
   "codemirror_mode": {
    "name": "ipython",
    "version": 2
   },
   "file_extension": ".py",
   "mimetype": "text/x-python",
   "name": "python",
   "nbconvert_exporter": "python",
   "pygments_lexer": "ipython2",
   "version": "2.7.6"
  }
 },
 "nbformat": 4,
 "nbformat_minor": 0
}
