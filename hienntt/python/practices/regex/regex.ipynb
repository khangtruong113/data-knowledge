{
 "cells": [
  {
   "cell_type": "code",
   "execution_count": 1,
   "outputs": [],
   "source": [
    "import re"
   ],
   "metadata": {
    "collapsed": false,
    "ExecuteTime": {
     "end_time": "2023-06-20T09:16:31.492460900Z",
     "start_time": "2023-06-20T09:16:31.487050900Z"
    }
   }
  },
  {
   "cell_type": "markdown",
   "source": [
    "# FUNCTIONS"
   ],
   "metadata": {
    "collapsed": false
   }
  },
  {
   "cell_type": "code",
   "execution_count": 11,
   "outputs": [
    {
     "name": "stdout",
     "output_type": "stream",
     "text": [
      "Found a match!\n"
     ]
    }
   ],
   "source": [
    "# search\n",
    "\n",
    "text = \"This is a sample text.\"\n",
    "pattern = \"sample\"\n",
    "\n",
    "match = re.search(pattern, text)\n",
    "\n",
    "if match:\n",
    "    print(\"Found a match!\")\n",
    "else:\n",
    "    print(\"No match found.\")"
   ],
   "metadata": {
    "collapsed": false,
    "ExecuteTime": {
     "end_time": "2023-06-09T04:58:35.188591200Z",
     "start_time": "2023-06-09T04:58:35.184992700Z"
    }
   }
  },
  {
   "cell_type": "code",
   "execution_count": 8,
   "outputs": [
    {
     "data": {
      "text/plain": "<re.Match object; span=(0, 4), match='This'>"
     },
     "execution_count": 8,
     "metadata": {},
     "output_type": "execute_result"
    }
   ],
   "source": [
    "# match\n",
    "\n",
    "text = \"This is a sample text.\"\n",
    "pattern = \"This\"\n",
    "\n",
    "re.match(pattern, text)"
   ],
   "metadata": {
    "collapsed": false,
    "ExecuteTime": {
     "end_time": "2023-06-09T04:54:15.402992300Z",
     "start_time": "2023-06-09T04:54:15.398887100Z"
    }
   }
  },
  {
   "cell_type": "code",
   "execution_count": 9,
   "outputs": [
    {
     "data": {
      "text/plain": "<re.Match object; span=(0, 10), match='2023-06-09'>"
     },
     "execution_count": 9,
     "metadata": {},
     "output_type": "execute_result"
    }
   ],
   "source": [
    "# fullmatch\n",
    "\n",
    "date_string = \"2023-06-09\"\n",
    "pattern = \"\\d{4}-\\d{2}-\\d{2}\"\n",
    "\n",
    "re.fullmatch(pattern, date_string)"
   ],
   "metadata": {
    "collapsed": false,
    "ExecuteTime": {
     "end_time": "2023-06-09T04:57:26.199430300Z",
     "start_time": "2023-06-09T04:57:26.199430300Z"
    }
   }
  },
  {
   "cell_type": "code",
   "execution_count": 12,
   "outputs": [
    {
     "data": {
      "text/plain": "['19', '99', '12', '50']"
     },
     "execution_count": 12,
     "metadata": {},
     "output_type": "execute_result"
    }
   ],
   "source": [
    "# findall\n",
    "\n",
    "text = \"Price of book: $19.99, movie: $12.50\"\n",
    "pattern = \"\\d+\"\n",
    "\n",
    "re.findall(pattern, text)"
   ],
   "metadata": {
    "collapsed": false,
    "ExecuteTime": {
     "end_time": "2023-06-09T05:03:10.089426400Z",
     "start_time": "2023-06-09T05:03:10.089426400Z"
    }
   }
  },
  {
   "cell_type": "code",
   "execution_count": 14,
   "outputs": [
    {
     "data": {
      "text/plain": "'Price of ****: $19.99, movie: $12.50'"
     },
     "execution_count": 14,
     "metadata": {},
     "output_type": "execute_result"
    }
   ],
   "source": [
    "# sub/subn\n",
    "\n",
    "text = \"Price of book: $19.99, movie: $12.50\"\n",
    "pattern = r\"\\b\\w{4}\\b\"\n",
    "\n",
    "re.sub(pattern, '****', text)"
   ],
   "metadata": {
    "collapsed": false,
    "ExecuteTime": {
     "end_time": "2023-06-09T06:39:58.123990800Z",
     "start_time": "2023-06-09T06:39:58.116992700Z"
    }
   }
  },
  {
   "cell_type": "code",
   "execution_count": 15,
   "outputs": [
    {
     "data": {
      "text/plain": "('Price of ****: $19.99, movie: $12.50', 1)"
     },
     "execution_count": 15,
     "metadata": {},
     "output_type": "execute_result"
    }
   ],
   "source": [
    "re.subn(pattern, '****', text)"
   ],
   "metadata": {
    "collapsed": false,
    "ExecuteTime": {
     "end_time": "2023-06-09T06:42:18.321503100Z",
     "start_time": "2023-06-09T06:42:18.315519200Z"
    }
   }
  },
  {
   "cell_type": "code",
   "execution_count": 16,
   "outputs": [
    {
     "data": {
      "text/plain": "['Price', 'of', 'book:', '$19.99,', 'movie:', '$12.50']"
     },
     "execution_count": 16,
     "metadata": {},
     "output_type": "execute_result"
    }
   ],
   "source": [
    "# split\n",
    "\n",
    "text = \"Price of book: $19.99, movie: $12.50\"\n",
    "pattern = \"\\s+\"\n",
    "\n",
    "re.split(pattern, text)"
   ],
   "metadata": {
    "collapsed": false,
    "ExecuteTime": {
     "end_time": "2023-06-09T06:45:45.033364400Z",
     "start_time": "2023-06-09T06:45:45.022393500Z"
    }
   }
  },
  {
   "cell_type": "code",
   "execution_count": 17,
   "outputs": [
    {
     "data": {
      "text/plain": "['Price', 'of', 'book:', '$19.99, movie: $12.50']"
     },
     "execution_count": 17,
     "metadata": {},
     "output_type": "execute_result"
    }
   ],
   "source": [
    "re.split(pattern, text, 3)"
   ],
   "metadata": {
    "collapsed": false,
    "ExecuteTime": {
     "end_time": "2023-06-09T06:46:49.798294200Z",
     "start_time": "2023-06-09T06:46:49.792310100Z"
    }
   }
  },
  {
   "cell_type": "code",
   "execution_count": 20,
   "outputs": [
    {
     "data": {
      "text/plain": "<re.Match object; span=(0, 0), match=''>"
     },
     "execution_count": 20,
     "metadata": {},
     "output_type": "execute_result"
    }
   ],
   "source": [
    "# escape\n",
    "\n",
    "text = r\"Price of \\book: $19.99, movie: $12.50\"\n",
    "pattern = r\"\\b\"\n",
    "\n",
    "re.search(pattern, text)"
   ],
   "metadata": {
    "collapsed": false,
    "ExecuteTime": {
     "end_time": "2023-06-09T07:23:35.426128200Z",
     "start_time": "2023-06-09T07:23:35.418812700Z"
    }
   }
  },
  {
   "cell_type": "code",
   "execution_count": 21,
   "outputs": [
    {
     "data": {
      "text/plain": "<re.Match object; span=(9, 11), match='\\\\b'>"
     },
     "execution_count": 21,
     "metadata": {},
     "output_type": "execute_result"
    }
   ],
   "source": [
    "re.search(re.escape(pattern), text)"
   ],
   "metadata": {
    "collapsed": false,
    "ExecuteTime": {
     "end_time": "2023-06-09T07:23:38.688708100Z",
     "start_time": "2023-06-09T07:23:38.681143800Z"
    }
   }
  },
  {
   "cell_type": "code",
   "execution_count": 23,
   "outputs": [
    {
     "data": {
      "text/plain": "['19', '99', '12', '50']"
     },
     "execution_count": 23,
     "metadata": {},
     "output_type": "execute_result"
    }
   ],
   "source": [
    "# compile\n",
    "\n",
    "text = \"Price of book: $19.99, movie: $12.50\"\n",
    "pattern = \"\\d+\"\n",
    "\n",
    "regex = re.compile(pattern)\n",
    "regex.findall(text)"
   ],
   "metadata": {
    "collapsed": false,
    "ExecuteTime": {
     "end_time": "2023-06-09T07:34:44.027934600Z",
     "start_time": "2023-06-09T07:34:44.024946100Z"
    }
   }
  },
  {
   "cell_type": "markdown",
   "source": [
    "# MATCH OBJECT"
   ],
   "metadata": {
    "collapsed": false
   }
  },
  {
   "cell_type": "code",
   "execution_count": 29,
   "outputs": [],
   "source": [
    "pattern = \"(\\d{3})-(\\d{3}-\\d{4})\"\n",
    "text = \"My phone number is 222-333-4444\"\n",
    "\n",
    "match = re.search(pattern, text)"
   ],
   "metadata": {
    "collapsed": false,
    "ExecuteTime": {
     "end_time": "2023-06-09T09:29:40.872692300Z",
     "start_time": "2023-06-09T09:29:40.872692300Z"
    }
   }
  },
  {
   "cell_type": "code",
   "execution_count": 32,
   "outputs": [
    {
     "name": "stdout",
     "output_type": "stream",
     "text": [
      "Matched phone number: 222-333-4444\n",
      "Area code: 222\n",
      "Phone number: 333-4444\n",
      "Start position: 19\n",
      "End position: 31\n",
      "Span: (19, 31)\n"
     ]
    }
   ],
   "source": [
    "if match:\n",
    "    print(f'Matched phone number: {match.group()}')\n",
    "    print(f'Area code: {match.group(1)}')\n",
    "    print(f'Phone number: {match.group(2)}')\n",
    "    print(f'Start position: {match.start()}')\n",
    "    print(f'End position: {match.end()}')\n",
    "    print(f'Span: {match.span()}')"
   ],
   "metadata": {
    "collapsed": false,
    "ExecuteTime": {
     "end_time": "2023-06-09T09:31:06.088486400Z",
     "start_time": "2023-06-09T09:31:06.071423400Z"
    }
   }
  },
  {
   "cell_type": "markdown",
   "source": [
    "# FLAGS"
   ],
   "metadata": {
    "collapsed": false
   }
  },
  {
   "cell_type": "code",
   "execution_count": 34,
   "outputs": [
    {
     "name": "stdout",
     "output_type": "stream",
     "text": [
      "None\n",
      "<re.Match object; span=(0, 5), match='Hello'>\n"
     ]
    }
   ],
   "source": [
    "# re.IGNORECASE\n",
    "\n",
    "pattern = 'hello'\n",
    "text = 'Hello world!'\n",
    "\n",
    "print(re.search(pattern, text))\n",
    "print(re.search(pattern, text, re.IGNORECASE))"
   ],
   "metadata": {
    "collapsed": false,
    "ExecuteTime": {
     "end_time": "2023-06-09T09:39:05.120964Z",
     "start_time": "2023-06-09T09:39:05.110802300Z"
    }
   }
  },
  {
   "cell_type": "code",
   "execution_count": 35,
   "outputs": [
    {
     "name": "stdout",
     "output_type": "stream",
     "text": [
      "None\n",
      "<re.Match object; span=(0, 11), match='hello\\nworld'>\n"
     ]
    }
   ],
   "source": [
    "# re.DOTALL\n",
    "\n",
    "pattern = 'hello.*world'\n",
    "text = 'hello\\nworld!'\n",
    "\n",
    "print(re.search(pattern, text))\n",
    "print(re.search(pattern, text, re.DOTALL))"
   ],
   "metadata": {
    "collapsed": false,
    "ExecuteTime": {
     "end_time": "2023-06-09T09:49:48.669325900Z",
     "start_time": "2023-06-09T09:49:48.631704700Z"
    }
   }
  },
  {
   "cell_type": "code",
   "execution_count": 37,
   "outputs": [
    {
     "name": "stdout",
     "output_type": "stream",
     "text": [
      "hello\n",
      "world\n"
     ]
    }
   ],
   "source": [
    "print(re.search(pattern, text, re.DOTALL).group())"
   ],
   "metadata": {
    "collapsed": false,
    "ExecuteTime": {
     "end_time": "2023-06-09T09:51:15.899247200Z",
     "start_time": "2023-06-09T09:51:15.893660200Z"
    }
   }
  },
  {
   "cell_type": "code",
   "execution_count": 40,
   "outputs": [
    {
     "data": {
      "text/plain": "[]"
     },
     "execution_count": 40,
     "metadata": {},
     "output_type": "execute_result"
    }
   ],
   "source": [
    "# re.MULTILINE\n",
    "\n",
    "pattern = '^\\d+'\n",
    "text = 'Line 1\\nLine 2\\nLine 3'\n",
    "\n",
    "re.findall(pattern, text, re.MULTILINE)"
   ],
   "metadata": {
    "collapsed": false,
    "ExecuteTime": {
     "end_time": "2023-06-09T09:58:48.426559800Z",
     "start_time": "2023-06-09T09:58:48.410552500Z"
    }
   }
  },
  {
   "cell_type": "code",
   "execution_count": 41,
   "outputs": [
    {
     "data": {
      "text/plain": "['1', '2', '3']"
     },
     "execution_count": 41,
     "metadata": {},
     "output_type": "execute_result"
    }
   ],
   "source": [
    "pattern = '\\d+$'\n",
    "text = 'Line 1\\nLine 2\\nLine 3'\n",
    "\n",
    "re.findall(pattern, text, re.MULTILINE)"
   ],
   "metadata": {
    "collapsed": false,
    "ExecuteTime": {
     "end_time": "2023-06-09T09:59:09.612554700Z",
     "start_time": "2023-06-09T09:59:09.596599Z"
    }
   }
  },
  {
   "cell_type": "markdown",
   "source": [
    "# SEARCH AND MATCHING PATTERNS IN FILES"
   ],
   "metadata": {
    "collapsed": false
   }
  },
  {
   "cell_type": "code",
   "execution_count": 4,
   "outputs": [
    {
     "name": "stdout",
     "output_type": "stream",
     "text": [
      "Found a match in line:  This is a sample.\n",
      "\n"
     ]
    }
   ],
   "source": [
    "# Match Word\n",
    "\n",
    "with open(\"sample1.txt\", \"r\") as f:\n",
    "    for line in f:\n",
    "        match = re.search(\"sample\", line)\n",
    "        if match:\n",
    "            print(\"Found a match in line: \", line)\n",
    "            break"
   ],
   "metadata": {
    "collapsed": false,
    "ExecuteTime": {
     "end_time": "2023-06-12T02:52:54.906214Z",
     "start_time": "2023-06-12T02:52:54.895117200Z"
    }
   }
  },
  {
   "cell_type": "code",
   "execution_count": 5,
   "outputs": [
    {
     "name": "stdout",
     "output_type": "stream",
     "text": [
      "['f1.doc', 'f2.docx', 'f3.pdf']\n"
     ]
    }
   ],
   "source": [
    "# Search a file for file names\n",
    "\n",
    "file_extensions = ['pdf', 'doc', 'docx', 'xls', 'xlsx', 'ppt', 'pptx']\n",
    "\n",
    "with open(\"sample2.txt\", \"r\") as f:\n",
    "    text = f.read()\n",
    "    pattern = r'\\b\\w+\\.(?:' + '|'.join(file_extensions) + r')\\b'\n",
    "    matches = re.findall(pattern, text)\n",
    "\n",
    "print(matches)"
   ],
   "metadata": {
    "collapsed": false,
    "ExecuteTime": {
     "end_time": "2023-06-12T03:16:55.744096Z",
     "start_time": "2023-06-12T03:16:55.731280Z"
    }
   }
  },
  {
   "cell_type": "code",
   "execution_count": 4,
   "outputs": [
    {
     "name": "stdout",
     "output_type": "stream",
     "text": [
      "Phone number found: 123-456-7890\n",
      "Email address found: john.doe@example.com\n",
      "Zip code found: 54321\n",
      "Order number found: AB-1234-5678\n",
      "Hex color code found: #FF5733\n"
     ]
    }
   ],
   "source": [
    "# Searching and matching patterns in files\n",
    "\n",
    "phone_pattern = r'\\d{3}-\\d{3}-\\d{4}'\n",
    "email_pattern = r'\\b[A-za-z0-9._%+-]+@[A-Za-z0-9.-]+\\.[A-Z|a-z]{2,}\\b'\n",
    "zip_pattern = r'\\b\\d{5}(?:-\\d{4})?\\b'\n",
    "order_pattern = r'\\b[A-Z]{2}-\\d{4}-\\d{4}\\b'\n",
    "hex_pattern = r'#[A-Fa-f0-9]{6}'\n",
    "\n",
    "with open('sample3.txt', 'r') as f:\n",
    "    text = f.read()\n",
    "    phone_match = re.search(phone_pattern, text)\n",
    "    email_match = re.search(email_pattern, text)\n",
    "    zip_match = re.search(zip_pattern, text)\n",
    "    order_match = re.search(order_pattern, text)\n",
    "    hex_match = re.search(hex_pattern, text)\n",
    "\n",
    "if phone_match:\n",
    "    print(f'Phone number found: {phone_match.group()}')\n",
    "if email_match:\n",
    "    print(f'Email address found: {email_match.group()}')\n",
    "if zip_match:\n",
    "    print(f'Zip code found: {zip_match.group()}')\n",
    "if order_match:\n",
    "    print(f'Order number found: {order_match.group()}')\n",
    "if hex_match:\n",
    "    print(f'Hex color code found: {hex_match.group()}')"
   ],
   "metadata": {
    "collapsed": false,
    "ExecuteTime": {
     "end_time": "2023-06-19T09:05:33.146992700Z",
     "start_time": "2023-06-19T09:05:33.137192900Z"
    }
   }
  },
  {
   "cell_type": "code",
   "execution_count": 6,
   "outputs": [
    {
     "name": "stdout",
     "output_type": "stream",
     "text": [
      "All product codes: ['AB12-CD34', '123-456', 'EF56-GH78']\n"
     ]
    }
   ],
   "source": [
    "# Find custom product codes in a file\n",
    "\n",
    "with open(\"sample4.txt\", \"r\") as f:\n",
    "    text = f.read()\n",
    "\n",
    "pattern = r'\\b[A-Z]{2}\\d{2}-[A-Z]{2}\\d{2}\\b|\\b\\d{3}-\\d{3}\\b'\n",
    "matches = re.findall(pattern, text)\n",
    "\n",
    "print (\"All product codes:\", matches)"
   ],
   "metadata": {
    "collapsed": false,
    "ExecuteTime": {
     "end_time": "2023-06-19T09:12:09.216447700Z",
     "start_time": "2023-06-19T09:12:09.197003500Z"
    }
   }
  },
  {
   "cell_type": "code",
   "execution_count": 15,
   "outputs": [],
   "source": [
    "# Find custom product codes in multiple files\n",
    "\n",
    "import os\n",
    "\n",
    "def extract_product_codes(file_path, output_file):\n",
    "    with open(file_path, 'r') as f:\n",
    "        text = f.read()\n",
    "        pattern = r'\\b[A-Z]{2}\\d{2}-[A-Z]{2}\\d{2}\\b|\\b\\d{3}-\\d{3}\\b'\n",
    "        matches = re.findall(pattern, text)\n",
    "\n",
    "    with open(output_file, 'w') as output_f:\n",
    "        for match in matches:\n",
    "            output_f.write(f'{match}\\n')\n",
    "\n",
    "file_pairs = [('file1.txt', 'code1.txt'), ('file2.txt', 'code2.txt')]\n",
    "\n",
    "for input_file, output_file in file_pairs:\n",
    "    input_path = os.path.join('input', input_file)\n",
    "    output_path = os.path.join('output', output_file)\n",
    "    extract_product_codes(input_path, output_path)"
   ],
   "metadata": {
    "collapsed": false,
    "ExecuteTime": {
     "end_time": "2023-06-19T10:27:49.374754800Z",
     "start_time": "2023-06-19T10:27:49.359360600Z"
    }
   }
  },
  {
   "cell_type": "markdown",
   "source": [
    "# VALIDATING USER INPUT AND DATA"
   ],
   "metadata": {
    "collapsed": false
   }
  },
  {
   "cell_type": "code",
   "execution_count": 20,
   "outputs": [
    {
     "name": "stdout",
     "output_type": "stream",
     "text": [
      "Valid username!\n"
     ]
    }
   ],
   "source": [
    "# Check if a username meets the requirement\n",
    "\n",
    "def validate_username (username):\n",
    "    pattern = r\"^[a-zA-Z]+[\\w]*$\"\n",
    "\n",
    "    match = re.fullmatch(pattern, username)\n",
    "    return match is not None\n",
    "\n",
    "user_input = input(\"Enter a username: \")\n",
    "\n",
    "if validate_username(user_input):\n",
    "    print(\"Valid username!\")\n",
    "else:\n",
    "    print(\"Invalid username.\")"
   ],
   "metadata": {
    "collapsed": false,
    "ExecuteTime": {
     "end_time": "2023-06-19T10:59:10.894905900Z",
     "start_time": "2023-06-19T10:59:08.835246700Z"
    }
   }
  },
  {
   "cell_type": "code",
   "execution_count": 22,
   "outputs": [
    {
     "name": "stdout",
     "output_type": "stream",
     "text": [
      "Invalid number.\n"
     ]
    }
   ],
   "source": [
    "# Checking numeric data\n",
    "\n",
    "def validate_strictly_numeric(input_string):\n",
    "    pattern = r\"^\\d+$\" # không nhận số âm, số thập phân,...\n",
    "    match = re.search(pattern, input_string)\n",
    "    return match is not None\n",
    "\n",
    "user_input = input(\"Enter a number: \")\n",
    "\n",
    "if validate_strictly_numeric(user_input):\n",
    "    print(\"Valid number!\")\n",
    "else:\n",
    "    print(\"Invalid number.\")"
   ],
   "metadata": {
    "collapsed": false,
    "ExecuteTime": {
     "end_time": "2023-06-19T11:01:03.298481100Z",
     "start_time": "2023-06-19T11:00:57.738211500Z"
    }
   }
  },
  {
   "cell_type": "code",
   "execution_count": 23,
   "outputs": [
    {
     "name": "stdout",
     "output_type": "stream",
     "text": [
      "Valid number!\n"
     ]
    }
   ],
   "source": [
    "def validate_numeric(input_string):\n",
    "    pattern = r\"^-?\\d+(\\.\\d+)?$\" # không nhận số âm, số thập phân,...\n",
    "    match = re.search(pattern, input_string)\n",
    "    return match is not None\n",
    "\n",
    "user_input = input(\"Enter a number: \")\n",
    "\n",
    "if validate_numeric(user_input):\n",
    "    print(\"Valid number!\")\n",
    "else:\n",
    "    print(\"Invalid number.\")"
   ],
   "metadata": {
    "collapsed": false,
    "ExecuteTime": {
     "end_time": "2023-06-19T11:03:41.988947200Z",
     "start_time": "2023-06-19T11:03:37.478513Z"
    }
   }
  },
  {
   "cell_type": "code",
   "execution_count": 3,
   "outputs": [],
   "source": [
    "# Validating email addresses\n",
    "\n",
    "email_pattern = re.compile(r'^[a-zA-Z0-9._%+-]+@[a-zA-Z0-9.-]+\\.[a-zA-Z]{2,}$')\n",
    "\n",
    "with open('email_list.txt', 'r') as input_file:\n",
    "    email_addresses = input_file.readlines()\n",
    "\n",
    "invalid_emails = [email.strip() for email in email_addresses if not email_pattern.match(email.strip())]\n",
    "\n",
    "with open('invalid_emails.txt', 'w') as output_file:\n",
    "    for invalid_email in invalid_emails:\n",
    "        output_file.write(f\"{invalid_email}\\n\")"
   ],
   "metadata": {
    "collapsed": false,
    "ExecuteTime": {
     "end_time": "2023-06-20T09:21:54.689233200Z",
     "start_time": "2023-06-20T09:21:54.684736500Z"
    }
   }
  },
  {
   "cell_type": "code",
   "execution_count": 17,
   "outputs": [
    {
     "name": "stdout",
     "output_type": "stream",
     "text": [
      "Valid input!\n"
     ]
    }
   ],
   "source": [
    "# Validate inout and prevent code in injection\n",
    "\n",
    "def sanitize_input(input_string):\n",
    "    sanitized_string = re.sub(r\"[;'\\\"]\", \"\", input_string)\n",
    "    return sanitized_string\n",
    "\n",
    "def validate_string_no_code_injection(input_string):\n",
    "    pattern = r\"^[^;'\\\"]*$\"\n",
    "    match = re.search(pattern, input_string)\n",
    "    return match is not None\n",
    "\n",
    "user_input = input(\"Enter a string to check for code injection: \")\n",
    "sanitized_input = sanitize_input(user_input)\n",
    "\n",
    "if validate_string_no_code_injection(sanitized_input):\n",
    "    print(\"Valid input!\")\n",
    "else:\n",
    "    print(\"Invalid input. Detected potentially harmful characters.\")"
   ],
   "metadata": {
    "collapsed": false,
    "ExecuteTime": {
     "end_time": "2023-06-20T09:46:09.573459900Z",
     "start_time": "2023-06-20T09:45:58.326834900Z"
    }
   }
  },
  {
   "cell_type": "code",
   "execution_count": null,
   "outputs": [],
   "source": [],
   "metadata": {
    "collapsed": false
   }
  }
 ],
 "metadata": {
  "kernelspec": {
   "display_name": "Python 3",
   "language": "python",
   "name": "python3"
  },
  "language_info": {
   "codemirror_mode": {
    "name": "ipython",
    "version": 2
   },
   "file_extension": ".py",
   "mimetype": "text/x-python",
   "name": "python",
   "nbconvert_exporter": "python",
   "pygments_lexer": "ipython2",
   "version": "2.7.6"
  }
 },
 "nbformat": 4,
 "nbformat_minor": 0
}
